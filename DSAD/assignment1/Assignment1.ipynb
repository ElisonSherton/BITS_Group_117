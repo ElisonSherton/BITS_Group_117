{
 "cells": [
  {
   "cell_type": "code",
   "execution_count": 1,
   "metadata": {},
   "outputs": [],
   "source": [
    "class Node:\n",
    "    def __init__(self, company_name: str, parent: str):\n",
    "        self.company_name = company_name\n",
    "        self.parent_company = parent\n",
    "        self.children = []"
   ]
  },
  {
   "cell_type": "code",
   "execution_count": 2,
   "metadata": {},
   "outputs": [],
   "source": [
    "def search(root_node, company_name):       \n",
    "    queue = []\n",
    "    queue.append(root_node)\n",
    "    acquired_flag = False\n",
    "    while len(queue) != 0:\n",
    "        n = len(queue)\n",
    "        while n > 0:\n",
    "            p = queue[0]\n",
    "            queue.pop(0)\n",
    "            if p.company_name == company_name:\n",
    "                return p\n",
    "            for i in range(len(p.children)):\n",
    "                queue.append(p.children[i])\n",
    "            n = n - 1"
   ]
  },
  {
   "cell_type": "code",
   "execution_count": 3,
   "metadata": {},
   "outputs": [],
   "source": [
    "def acquire(root_node, parent_company, acquired_company):\n",
    "    parent = search(root_node, parent_company)\n",
    "    if parent:\n",
    "        # Check if the company already exists as a child here\n",
    "        for child in parent.children:\n",
    "            if child.company_name == acquired_company:\n",
    "                print(f\"ACQUIRED FAILED: {acquired_company} BY: {parent_company}\")\n",
    "                return\n",
    "        parent.children.append(Node(acquired_company, parent_company))\n",
    "        print(f\"ACQUIRED SUCCESS: {parent_company} Succesfully acquired {acquired_company}\")\n",
    "    else:\n",
    "        print(f\"ACQUIRED FAILED: {acquired_company} BY: {parent_company}\")"
   ]
  },
  {
   "cell_type": "code",
   "execution_count": 4,
   "metadata": {},
   "outputs": [],
   "source": [
    "def detail(root_node, company_name):\n",
    "    p = search(root_node, company_name)\n",
    "    print(f\"DETAIL: {company_name}\")\n",
    "    print(f\"Acquired companies: {', '.join([x.company_name for x in p.children])}\") \n",
    "    print(f\"No of companies acquired: {len(p.children)}\")"
   ]
  },
  {
   "cell_type": "code",
   "execution_count": 5,
   "metadata": {},
   "outputs": [],
   "source": [
    "def release(root_node, release_company):\n",
    "    release = search(root_node, release_company)\n",
    "    \n",
    "    if release:\n",
    "        parent = search(root_node, release.parent_company)\n",
    "        \n",
    "        new_children = []\n",
    "        for child in parent.children:\n",
    "            if child.company_name != release_company:\n",
    "                new_children.append(child)\n",
    "            parent.children = new_children\n",
    "        print(f\"RELEASED SUCCESS: released {release_company} successfully.\")\n",
    "    else:\n",
    "        print(f\"RELEASED FAILED: released {release_company} failed.\")"
   ]
  },
  {
   "cell_type": "markdown",
   "metadata": {},
   "source": [
    "# Testing"
   ]
  },
  {
   "cell_type": "code",
   "execution_count": 6,
   "metadata": {},
   "outputs": [],
   "source": [
    "root_node = Node(\"ce\", None)"
   ]
  },
  {
   "cell_type": "code",
   "execution_count": 7,
   "metadata": {},
   "outputs": [
    {
     "name": "stdout",
     "output_type": "stream",
     "text": [
      "ACQUIRED SUCCESS: ce Succesfully acquired aviation\n",
      "ACQUIRED SUCCESS: ce Succesfully acquired power\n",
      "ACQUIRED SUCCESS: ce Succesfully acquired healthcare\n",
      "DETAIL: ce\n",
      "Acquired companies: aviation, power, healthcare\n",
      "No of companies acquired: 3\n",
      "ACQUIRED SUCCESS: aviation Succesfully acquired additive\n",
      "ACQUIRED FAILED: additive BY: aviation\n",
      "DETAIL: aviation\n",
      "Acquired companies: additive\n",
      "No of companies acquired: 1\n",
      "RELEASED SUCCESS: released additive successfully.\n",
      "RELEASED FAILED: released additive failed.\n",
      "ACQUIRED SUCCESS: aviation Succesfully acquired additive\n",
      "ACQUIRED SUCCESS: power Succesfully acquired wind-energy\n",
      "ACQUIRED SUCCESS: power Succesfully acquired solar-energy\n",
      "ACQUIRED SUCCESS: power Succesfully acquired appliances\n",
      "ACQUIRED SUCCESS: healthcare Succesfully acquired ct-manufacturer\n",
      "ACQUIRED SUCCESS: healthcare Succesfully acquired lifescience\n",
      "ACQUIRED SUCCESS: healthcare Succesfully acquired pharma\n",
      "DETAIL: ce\n",
      "Acquired companies: aviation, power, healthcare\n",
      "No of companies acquired: 3\n",
      "DETAIL: aviation\n",
      "Acquired companies: additive\n",
      "No of companies acquired: 1\n",
      "DETAIL: power\n",
      "Acquired companies: wind-energy, solar-energy, appliances\n",
      "No of companies acquired: 3\n",
      "DETAIL: lifescience\n",
      "Acquired companies: \n",
      "No of companies acquired: 0\n"
     ]
    }
   ],
   "source": [
    "acquire(root_node, \"ce\", \"aviation\")\n",
    "acquire(root_node, \"ce\", \"power\")\n",
    "acquire(root_node, \"ce\", \"healthcare\")\n",
    "detail(root_node, \"ce\")\n",
    "acquire(root_node, \"aviation\", \"additive\")\n",
    "acquire(root_node, \"aviation\", \"additive\")\n",
    "detail(root_node, \"aviation\")\n",
    "release(root_node, \"additive\")\n",
    "release(root_node, \"additive\")\n",
    "acquire(root_node, \"aviation\", \"additive\")\n",
    "acquire(root_node, \"power\", \"wind-energy\")\n",
    "acquire(root_node, \"power\", \"solar-energy\")\n",
    "acquire(root_node, \"power\", \"appliances\")\n",
    "acquire(root_node, \"healthcare\", \"ct-manufacturer\")\n",
    "acquire(root_node, \"healthcare\", \"lifescience\")\n",
    "acquire(root_node, \"healthcare\", \"pharma\")\n",
    "detail(root_node, \"ce\")\n",
    "detail(root_node, \"aviation\")\n",
    "detail(root_node, \"power\")\n",
    "detail(root_node, \"lifescience\")"
   ]
  }
 ],
 "metadata": {
  "kernelspec": {
   "display_name": "Python 3",
   "language": "python",
   "name": "python3"
  },
  "language_info": {
   "codemirror_mode": {
    "name": "ipython",
    "version": 3
   },
   "file_extension": ".py",
   "mimetype": "text/x-python",
   "name": "python",
   "nbconvert_exporter": "python",
   "pygments_lexer": "ipython3",
   "version": "3.6.10"
  }
 },
 "nbformat": 4,
 "nbformat_minor": 4
}
