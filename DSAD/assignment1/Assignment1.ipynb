{
 "cells": [
  {
   "cell_type": "markdown",
   "metadata": {},
   "source": [
    "# Get all the necessary imports"
   ]
  },
  {
   "cell_type": "code",
   "execution_count": 1,
   "metadata": {},
   "outputs": [],
   "source": [
    "%reload_ext autoreload\n",
    "%autoreload 2"
   ]
  },
  {
   "cell_type": "code",
   "execution_count": 2,
   "metadata": {},
   "outputs": [],
   "source": [
    "from typing import List\n",
    "from pathlib import Path\n",
    "import re"
   ]
  },
  {
   "cell_type": "markdown",
   "metadata": {},
   "source": [
    "# Define a node class to hold all the relevant information for a company"
   ]
  },
  {
   "cell_type": "code",
   "execution_count": 3,
   "metadata": {},
   "outputs": [],
   "source": [
    "class Node:\n",
    "    def __init__(self, parent_company: object, company_name: str):\n",
    "        \"\"\"[Create a node object given the company's name and it's parent company]\n",
    "\n",
    "        Args:\n",
    "            parent_company (str): [Name of the parent company]\n",
    "            company_name (str): [Name of this company]\n",
    "        \"\"\"\n",
    "\n",
    "        self.company_name = company_name\n",
    "        self.parent_company = parent_company\n",
    "        \n",
    "        # Maintain a list of companies acquired by this company\n",
    "        self.acquired_companies = []"
   ]
  },
  {
   "cell_type": "markdown",
   "metadata": {},
   "source": [
    "# Define a Tree class to maintain the company hierarchy"
   ]
  },
  {
   "cell_type": "code",
   "execution_count": 4,
   "metadata": {},
   "outputs": [],
   "source": [
    "class Tree:\n",
    "    def __init__(self, root: Node):\n",
    "        \"\"\"[Create a tree data structure to hold the organization hierarchy]\n",
    "\n",
    "        Args:\n",
    "            root (Node): [The root node/ super parent company]\n",
    "        \"\"\"\n",
    "        self.root = root\n",
    "    \n",
    "    def search(self, company_name: str) -> List:\n",
    "        \"\"\"[Searches for a given company in the organization structure and returns the same using BFS]\n",
    "\n",
    "        Args:\n",
    "            company_name (str): [Name of the company to be searched]\n",
    "\n",
    "        Returns:\n",
    "            List: [boolean: whether or not found, Node/String: Node if found, empty string if not found]\n",
    "        \"\"\"\n",
    "        \n",
    "        # Create a queue for traversing the tree\n",
    "        search_queue = []\n",
    "        \n",
    "        # Load the root in the queue to start processing\n",
    "        search_queue.append(self.root)\n",
    "        n = len(search_queue)\n",
    "\n",
    "        while n > 0:\n",
    "            # Pop the first element from the front\n",
    "            front = search_queue.pop(0)\n",
    "\n",
    "            # Check if this node is the company we're looking for\n",
    "            if front.company_name == company_name:\n",
    "                return [True, front]\n",
    "            \n",
    "            # Otherwise load the current company's subsidiaries into the queue\n",
    "            for subsidiary in front.acquired_companies:\n",
    "                search_queue.append(subsidiary)\n",
    "            \n",
    "            n = len(search_queue)\n",
    "        return [False, \"Requested company doesn't exist\"]\n",
    "    \n",
    "    def acquire(self, parent_company: str, acquired_company: str) -> str:\n",
    "        \"\"\"[Given a parent and subsidiary company, add the subsidiary company to the list of companies acquired by parent company]\n",
    "\n",
    "        Args:\n",
    "            parent_company (str): [Name of the parent company]\n",
    "            acquired_company (str): [Name of the acquired company]\n",
    "\n",
    "        Returns:\n",
    "            str: [Status of the acquisition]\n",
    "        \"\"\"\n",
    "        \n",
    "        presence = self.search(parent_company)\n",
    "        acquired_presence = self.search(acquired_company)\n",
    "\n",
    "        # Check if the company which is acquiring (parent company) is already present in the hierarchy or not\n",
    "        if not presence[0]:\n",
    "            return f\"ACQUIRED FAILED: {acquired_company} by {parent_company}; REASON: {parent_company} doesn't exist\"\n",
    "        # Check if the company that is to be acquired is already in the hierarchy\n",
    "        elif acquired_presence[0]:\n",
    "            return f\"ACQUIRED FAILED:{acquired_company} BY:{parent_company}; REASON: {acquired_presence[1].company_name} is already acquired by {acquired_presence[1].parent_company.company_name}\"\n",
    "        # Otherwise, add the acquired company as a subsidiary of the parent company\n",
    "        else:\n",
    "            subsidiary_company = Node(presence[1], acquired_company)\n",
    "            presence[1].acquired_companies.append(subsidiary_company)\n",
    "            return f\"ACQUIRED SUCCESS: {parent_company} BY:{acquired_company}\"\n",
    "    \n",
    "    def detail(self, company_name: str) -> str:\n",
    "        \"\"\"[Given a company's name, prints out the details of that company]\n",
    "\n",
    "        Args:\n",
    "            company_name (str): [Name of the company]\n",
    "\n",
    "        Returns:\n",
    "            str: [Details of the company]\n",
    "        \"\"\"\n",
    "        \n",
    "        presence = self.search(company_name)\n",
    "        \n",
    "        # Check if the company requested for exists in the organization hierarchy\n",
    "        # If not, then print detail failed\n",
    "        if not presence[0]:\n",
    "            return f\"DETAIL: {company_name}\\nDETAIL FAILED: {company_name} does not exist in the organizational hierarchy\"\n",
    "        else:\n",
    "            # Get the node for the company\n",
    "            company = presence[1]\n",
    "\n",
    "            # Construct the detail string as per the output format\n",
    "            details_string =  f\"DETAIL: {company_name}\"\n",
    "            subsidiaries = [x.company_name for x in company.acquired_companies]\n",
    "            if len(subsidiaries):\n",
    "                details_string += f\"\\nAcquired companies: {', '.join(subsidiaries)}\"\n",
    "                details_string += f\"\\nNo of companies acquired: {len(subsidiaries)}\"\n",
    "            else:\n",
    "                details_string += f\"\\nAcquired companies: none\\nNo of companies acquired: 0\"\n",
    "                \n",
    "        return details_string\n",
    "    \n",
    "    def release(self, company_name: str) -> str:\n",
    "        \"\"\"[Given a company name, releases the company from the organizational hierarchy]\n",
    "\n",
    "        Args:\n",
    "            company_name (str): [Name of the company to be removed]\n",
    "\n",
    "        Returns:\n",
    "            str: [Status of the removal operation]\n",
    "        \"\"\"\n",
    "\n",
    "        presence = self.search(company_name)\n",
    "\n",
    "        # Check if the requested company to release exists in the organizational hierarchy\n",
    "        if not presence[0]:\n",
    "            return f\"RELEASE FAILED: release {company_name} failed.\"\n",
    "        # Check if the requested company is the master company, if so raise an exception\n",
    "        else:\n",
    "            to_remove = presence[1]\n",
    "            if self.root.company_name == company_name:\n",
    "                return f\"RELEASE FAILED: cannot release the base conglomerate company\"\n",
    "            else:\n",
    "                # Create an empty list for new subsidiaries (devoid of this company)\n",
    "                new_subsidiaries = []\n",
    "                \n",
    "                # In this company's parent, find the mention of this company and remove it\n",
    "                for subsidiary in to_remove.parent_company.acquired_companies:\n",
    "                    if not(subsidiary.company_name == company_name):\n",
    "                        new_subsidiaries.append(subsidiary)\n",
    "                to_remove.parent_company.acquired_companies = new_subsidiaries\n",
    "            return f\"RELEASE SUCCESS: released {company_name} successfully.\""
   ]
  },
  {
   "cell_type": "markdown",
   "metadata": {},
   "source": [
    "# Define a function to parse the input file"
   ]
  },
  {
   "cell_type": "code",
   "execution_count": 5,
   "metadata": {},
   "outputs": [],
   "source": [
    "def parse_input(input_pth: str):\n",
    "    \"\"\"[Reads an input file, performs the operations in it in a line by line fashion and prints the output to another file]\n",
    "    \"\"\"  \n",
    "    instructions = Path(input_pth).read_text().split(\"\\n\")\n",
    "    \n",
    "    # Open an output file and start logging everything over there\n",
    "    with open(\"output.txt\", \"w\") as f:\n",
    "        base_conglomerate = instructions[0].replace(\"Company: \", \"\")\n",
    "        company_hierarchy = Tree(Node(None, base_conglomerate))\n",
    "        \n",
    "        # Start from the third line of instruction from the input text file\n",
    "        for instruction in instructions[2:]:\n",
    "            # Write the details of a company\n",
    "            if instruction.startswith(\"DETAIL\"):\n",
    "                company_name = instruction.replace(\"DETAIL \",\"\")\n",
    "                to_write = company_hierarchy.detail(company_name)\n",
    "            # Acquire a company and log it to the output file\n",
    "            elif instruction.startswith(\"ACQUIRED\"):\n",
    "                acquired_company = re.findall(r\"ACQUIRED:([\\w|-]+) BY\", instruction)[0]\n",
    "                parent_company = re.findall(r\"BY:([\\w|-]+)\", instruction)[0]\n",
    "                to_write = company_hierarchy.acquire(parent_company, acquired_company)\n",
    "            # Release a company and log it to the output file\n",
    "            elif instruction.startswith(\"RELEASE\"):\n",
    "                to_release = instruction.replace(\"RELEASE \", \"\")\n",
    "                to_write = company_hierarchy.release(to_release)\n",
    "            else:\n",
    "                to_write = \"ERROR: Couldn't interpret the instruction\"  \n",
    "\n",
    "            f.writelines(f\"{to_write}\\n\")"
   ]
  },
  {
   "cell_type": "markdown",
   "metadata": {},
   "source": [
    "# Test the algorithm"
   ]
  },
  {
   "cell_type": "code",
   "execution_count": 6,
   "metadata": {},
   "outputs": [],
   "source": [
    "parse_input(\"sample_input.txt\")                "
   ]
  },
  {
   "cell_type": "markdown",
   "metadata": {},
   "source": [
    "# Print the output"
   ]
  },
  {
   "cell_type": "code",
   "execution_count": 7,
   "metadata": {},
   "outputs": [
    {
     "name": "stdout",
     "output_type": "stream",
     "text": [
      "DETAIL: ce\n",
      "Acquired companies: none\n",
      "No of companies acquired: 0\n",
      "ACQUIRED SUCCESS: ce BY:aviation\n",
      "ACQUIRED SUCCESS: ce BY:power\n",
      "ACQUIRED SUCCESS: ce BY:healthcare\n",
      "DETAIL: ce\n",
      "Acquired companies: aviation, power, healthcare\n",
      "No of companies acquired: 3\n",
      "ACQUIRED SUCCESS: aviation BY:additive\n",
      "ACQUIRED FAILED:additive BY:aviation; REASON: additive is already acquired by aviation\n",
      "DETAIL: aviation\n",
      "Acquired companies: additive\n",
      "No of companies acquired: 1\n",
      "RELEASE SUCCESS: released additive successfully.\n",
      "RELEASE FAILED: release additive failed.\n",
      "ACQUIRED SUCCESS: aviation BY:additive\n",
      "ACQUIRED SUCCESS: power BY:wind-energy\n",
      "ACQUIRED SUCCESS: power BY:solar-energy\n",
      "ACQUIRED SUCCESS: power BY:appliances\n",
      "ACQUIRED SUCCESS: healthcare BY:ct-manufacturer\n",
      "ACQUIRED SUCCESS: healthcare BY:lifescience\n",
      "ACQUIRED SUCCESS: healthcare BY:pharma\n",
      "DETAIL: ce\n",
      "Acquired companies: aviation, power, healthcare\n",
      "No of companies acquired: 3\n",
      "DETAIL: aviation\n",
      "Acquired companies: additive\n",
      "No of companies acquired: 1\n",
      "DETAIL: power\n",
      "Acquired companies: wind-energy, solar-energy, appliances\n",
      "No of companies acquired: 3\n",
      "DETAIL: lifescience\n",
      "Acquired companies: none\n",
      "No of companies acquired: 0\n",
      "\n"
     ]
    }
   ],
   "source": [
    "print(Path(\"output.txt\").read_text())"
   ]
  }
 ],
 "metadata": {
  "kernelspec": {
   "display_name": "Python 3",
   "language": "python",
   "name": "python3"
  },
  "language_info": {
   "codemirror_mode": {
    "name": "ipython",
    "version": 3
   },
   "file_extension": ".py",
   "mimetype": "text/x-python",
   "name": "python",
   "nbconvert_exporter": "python",
   "pygments_lexer": "ipython3",
   "version": "3.8.8"
  }
 },
 "nbformat": 4,
 "nbformat_minor": 4
}
